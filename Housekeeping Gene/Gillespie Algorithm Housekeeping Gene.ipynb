{
 "cells": [
  {
   "cell_type": "markdown",
   "metadata": {},
   "source": [
    "# Algoritmo de Gillespie para la expresión genética de un gen constitutivo en una $\\textit{E. coli}$ ideal"
   ]
  },
  {
   "cell_type": "markdown",
   "metadata": {},
   "source": [
    "Considérese una $\\textit{E. coli}$ ideal que crece, pero no se divide y que únicamente tiene un gen constitutivo. Las ecuaciones diferenciales estocásticas que describen la expresión genética de ese gen constitutivo, siguiendo lo postulado por el dogma central de la biología molecular, serán"
   ]
  },
  {
   "cell_type": "markdown",
   "metadata": {},
   "source": [
    "\\begin{equation}\n",
    "\\dot{r} = k_r - \\gamma_r r\n",
    "\\end{equation}\n",
    "\n",
    "\\begin{equation}\n",
    "\\dot{p} = k_p r - \\gamma_p p\n",
    "\\end{equation}"
   ]
  },
  {
   "cell_type": "markdown",
   "metadata": {},
   "source": [
    "donde $k_r$ es la tasa con la que se transcribe el ADN en r, donde r la cantidad en número de moléculas de ARNm, $\\gamma_r$ es la tasa con la que se degrada el ARNm, $k_p$ es la tasa con la que se traduce r en p, donde p es la cantidad en número de moléculas de proteína, y $\\gamma_p$ es la tasa de degradación de proteína, que en este caso corresponde a la degradación por dilución."
   ]
  },
  {
   "cell_type": "markdown",
   "metadata": {},
   "source": [
    " "
   ]
  },
  {
   "cell_type": "markdown",
   "metadata": {},
   "source": [
    "Inicializamos las constantes definidas anteriormente de acuerdo con los valores estimados para la $\\textit{E. coli}$"
   ]
  },
  {
   "cell_type": "code",
   "execution_count": 1,
   "metadata": {},
   "outputs": [],
   "source": [
    "γr, kr, γp, kp = 1/5,1,1/45,50"
   ]
  },
  {
   "cell_type": "markdown",
   "metadata": {},
   "source": [
    " "
   ]
  },
  {
   "cell_type": "markdown",
   "metadata": {},
   "source": [
    "Importamos los paquetes que serán necesarios para correr el algoritmo"
   ]
  },
  {
   "cell_type": "code",
   "execution_count": 3,
   "metadata": {},
   "outputs": [],
   "source": [
    "import numpy as np\n",
    "import matplotlib.pyplot as plt\n",
    "from tqdm import tqdm\n",
    "\n",
    "from numba import jit,njit,float64,int32\n",
    "import numba as nb"
   ]
  },
  {
   "cell_type": "markdown",
   "metadata": {},
   "source": [
    " "
   ]
  },
  {
   "cell_type": "markdown",
   "metadata": {},
   "source": [
    "Definimos la función de Gillespie, que efectuará el algoritmo de Gillespie para la simulación de la dinámica estocástica de las especies químicas r y p, ARNm y proteína, respectivamente, para la expresión del gen constitutivo. "
   ]
  },
  {
   "cell_type": "code",
   "execution_count": 4,
   "metadata": {},
   "outputs": [],
   "source": [
    "@njit('f8[:](f8[:],f8)')\n",
    "def Gillespie(trp0,tmax):\n",
    "    \n",
    "    '''\n",
    "    Gillespie(trp0, tmax)\n",
    "\n",
    "    Return a ndarray from the given initial state with the last times, number of mRNA and the last number of proteins.\n",
    "    \n",
    "    Parameters\n",
    "    ----------\n",
    "    trp0 : array like\n",
    "        Array like with the initial state of a every single cell. It must be in this order: time,\n",
    "        number of mRNA, number of proteins.\n",
    "    tmax : int\n",
    "        Maximum time to be run in the simulation\n",
    "    \n",
    "    Returns\n",
    "    -------\n",
    "    out : ndarray\n",
    "        Array of the last time, number of mRNA and the last number of proteins obtained after the stochastic \n",
    "        simulation of a single system.    \n",
    "    \n",
    "    '''\n",
    "    \n",
    "    t,r,p =trp0 \n",
    "\n",
    "    while t < tmax:\n",
    "        s1 = kr\n",
    "        s2 = γr*r\n",
    "        s3 = kp*r\n",
    "        s4 = γp*p\n",
    "        st = s1+s2+s3+s4\n",
    "        τ = (-1/st)*np.log(np.random.rand())\n",
    "        x = np.random.rand()\n",
    "        if(x< s1/st):\n",
    "            r+=1\n",
    "        elif(x<(s1+s2)/st):\n",
    "            r-=1\n",
    "        elif(x<(s1+s2+s3)/st):\n",
    "            p+=1\n",
    "        else:\n",
    "            p-=1\n",
    "        t+=τ\n",
    "    return np.array([t,r,p]) "
   ]
  },
  {
   "cell_type": "markdown",
   "metadata": {},
   "source": [
    " "
   ]
  },
  {
   "cell_type": "markdown",
   "metadata": {},
   "source": [
    "t es el tiempo, r el número de ARNm, p el número de proteínas. Inicialmente estas 3 variables inician en los valores dados por el vector trp0. \n",
    "\n",
    "Luego, mientras el tiempo t sea menor o igual que el tiempo tmax dado por parámetro, que es el tiempo máximo en el que se simulará, definimos los eventos $s_1$,$s_2$,$s_3$,$s_4$, donde $s_1$ es el evento de creación de ARNm con tasa de creación $k_r$, $s_2$ es el evento de degradación de ARNm con tasa $\\gamma_r$, $s_3$ es el evento de creación de proteínas con tasa $k_p$, $s_4$ es el evento de degradación de proteína con tasa $\\gamma_p$. La cantidad $s_t$ corresponde a la suma de los cuatro eventos mencionados antes, que salen de las ecuaciones diferenciales estocásticas expuestas al principio."
   ]
  },
  {
   "cell_type": "markdown",
   "metadata": {},
   "source": [
    " "
   ]
  },
  {
   "cell_type": "markdown",
   "metadata": {},
   "source": [
    "La cantidad $\\tau$ es un tiempo aleatorio con distribución exponencial, inversamente proporcional a $s_t$, que es el tiempo en el que ocurre un evento. La cantidad x es un número aleatorio, distinto de $\\tau$, con distribución uniforme. Si x es menor que la $s_1/s_t$, ocurre el evento de creación de ARNm y se añade una molécula de ARNm. Si x es menor que $\\left(s_1+s_2\\right)/s_t$, ocurre el evento de degradación de ARNm y se resta una molécula de ARNm.Si $\\left(s_1+s_2+s_3\\right)/s_t$, ocurre elevento de creación de proteína y se añade una molécula de proteína. Si x no cumple con ninguna de las tres condiciones anteriores, se resta una proteína. El tiempo avanza de acuerdo a $\\tau$, por lo que al tiempo inicial se le suma el tiempo $\\tau$. Luego, el algoritmo retorna un array de numpy con el tiempo final, el ARNm final y la proteína final. "
   ]
  },
  {
   "cell_type": "markdown",
   "metadata": {},
   "source": [
    " "
   ]
  },
  {
   "cell_type": "markdown",
   "metadata": {},
   "source": [
    "Definimos la función Estado_celula, que será la encargada de evolucionar la célula de interés en el tiempo de acuerdo con las condiciones iniciales dadas y un vector de tiempos que contendrá los tiempos de muestreo del algoritmo."
   ]
  },
  {
   "cell_type": "code",
   "execution_count": 5,
   "metadata": {},
   "outputs": [],
   "source": [
    "@njit('f8[:,:](f8[:],f8[:])')\n",
    "def Estado_celula(X0,tiempos):\n",
    "    '''\n",
    "    Estado_celula(X0,tiempos)\n",
    "\n",
    "    Returns a matrix with the evolved genetic expression of a single cell.\n",
    "    \n",
    "    Parameters\n",
    "    ----------\n",
    "    X0 :ndarray \n",
    "        Vector with the system's initial state.\n",
    "        It has as many rows as elements have tiempos and as many columns as evaluated chemical species.\n",
    "    tiempos : numpy linspace, ndarray, array like\n",
    "        Vector containing the sampling times to evolve the system.\n",
    "    \n",
    "    Returns\n",
    "    -------\n",
    "    out : matrix, 2D ndarray\n",
    "        2D ndarray with the evolved system data.\n",
    "    \n",
    "    Example\n",
    "    --------\n",
    "    >>> x0 = np.array([0.0,0.0,0.0])             #time starts in 0.0, number of mRNA starts in 0.0 \n",
    "                                                 #and number of proteins starts in 0.0, respectively.\n",
    "                                               \n",
    "    >>> Estado_celula(x0,np.linspace(0,200,10))  #Evolves a single cell with initial conditions x0 and a\n",
    "                                                 #equispaced sampling time vector with 10 elements from \n",
    "                                                 #0 to 200. We chose only 10 elements for simplicity, but\n",
    "                                                 #there are 50 by default. \n",
    "                                               \n",
    "    array([[0.00000000e+00, 0.00000000e+00, 0.00000000e+00],\n",
    "    [2.22233941e+01, 6.00000000e+00, 4.58400000e+03],\n",
    "    [4.44470482e+01, 3.00000000e+00, 7.73200000e+03],\n",
    "    [6.66697353e+01, 5.00000000e+00, 5.90500000e+03],\n",
    "    [8.88922698e+01, 4.00000000e+00, 5.80100000e+03],\n",
    "    [1.11113080e+02, 6.00000000e+00, 7.65800000e+03],\n",
    "    [1.33335290e+02, 7.00000000e+00, 6.79300000e+03],\n",
    "    [1.55556091e+02, 7.00000000e+00, 1.00870000e+04],\n",
    "    [1.77778084e+02, 2.00000000e+00, 9.95200000e+03],\n",
    "    [2.00003693e+02, 3.00000000e+00, 8.36100000e+03]])\n",
    "    \n",
    "    Note that the first row is the initial condition vector x0.\n",
    "\n",
    "    '''\n",
    "    \n",
    "    X = np.zeros((len(tiempos),len(X0)))\n",
    "    X[0] = X0\n",
    "    \n",
    "    for i in range(1,len(tiempos)):\n",
    "        X[i] = Gillespie(X[i-1],tiempos[i])\n",
    "    \n",
    "    return X"
   ]
  },
  {
   "cell_type": "markdown",
   "metadata": {},
   "source": [
    " "
   ]
  },
  {
   "cell_type": "markdown",
   "metadata": {},
   "source": [
    "Sea $\\vec{x}_0 = \\left[t_0 = 0.0, r_0 = 0.0, p_0 = 0.0\\right]$, el vector de condiciones iniciales para el tiempo, cantidad de ARNm en número de moléculas y cantidad de proteínas en número de moléculas. Sea X, la matriz, definida como\n",
    "\n",
    "$$X = \\begin{bmatrix}t_0 & r_0 & p_0\\\\t_1 & r_1 & p_1 \\\\ t_2 & r_2 & p_2 \\\\ t_3 & r_3 & p_3 \\\\ . & . & . \\\\ . & . & . \\\\ . & . & .\\\\ t_i & r_i & p_i \\\\ . & . & . \\\\ . & . & . \\\\ . & . & .\\\\t_{n} & r_{n} & p_{n} \\end{bmatrix}$$\n",
    "\n",
    "donde $t_{n}$, $r_{n}$, $p_{n}$ son el tiempo máximo, la cantidad de ARNm en número de moléculas en el tiempo máximo y la cantidad de proteína en número de moléculas en el tiempo máximo. El tiempo máximo se define como el último elemento del vector tiempos, que es el vector que contiene los tiempos de muestreo. La cantidad n es el número de elementos que tiene el vector tiempo máximo.\n",
    "\n",
    "Es importante destacar que X tendrá tantas filas como elementos tenga el vector tiempos y tantas columnas como especies químicas se estén evaluando, de manera que, en general, si se tienen \n",
    "\n",
    "$$X = \\begin{bmatrix}t_0 & e_{0,1} & e_{0,2} & e_{0,3} & . & . &. & e_{0,j} & . & . &. & e_{0,m} \\\\t_1 & e_{1,1} & e_{1,2} & e_{1,3} & . & . & . & e_{1,j} & . & . & . & e_{1,m} \\\\ t_2 & e_{2,1} & e_{2,1} & e_{2,3} & . & . & . & e_{2,j}& . & . & . & e_{2,m} \\\\ t_3 & e_{3,1} & e_{3,2} & e_{3,3} & . & . & . & e_{3,j}& . & . & . & e_{3,m}\\\\ . & . & . & . & . & . & . & . & . & . & . & .\\\\ . & . & . & . & . & . & . & . & . & . & . & .\\\\  . & . & . & . & . & . & . & . & . & . & . & .\\\\ t_i & e_{i,1} & e_{i,2} & e_{i,3} & . & . & . & e_{i,j} & . & . & . &e_{i,m}\\\\ . & . & . & . & . & . & . & . & . & . & . & .\\\\  . & . & . & . & . & . & . & . & . & . & . & .\\\\  . & . & . & . & . & . & . & . & . & . & . & .\\\\ t_{n} & e_{n,1} & e_{n,2} & e_{n,3} & . & . & . & e_{n,j} & . & . & . & e_{n,m} \\end{bmatrix}$$\n",
    "\n",
    "donde $e_{i,j}$ es la j-ésima especie química en la i-ésimo tiempo, donde el i-ésimo tiempo es el i-ésimo elemento del vector tiempos. La cantidad n es el número de elementos del vector tiempos y m es la cantidad de especies químicas a evaluar."
   ]
  },
  {
   "cell_type": "markdown",
   "metadata": {},
   "source": [
    " "
   ]
  },
  {
   "cell_type": "markdown",
   "metadata": {},
   "source": [
    "En la línea 46 de la definición de la función Estado_celula se inicializa la matriz X con ceros, donde la matriz X tiene tantas filas como elementos tiene el vector tiempos y tantas columnas elementos tenga el vector X0 que entra por parámetro. En la línea 47 se fija el que la primera fila de la matriz X corresponde al estado inicial, dado por el vector X0 que entra por parámetro. \n",
    "\n",
    "En la línea 49 se evoluciona el sistema usando la función Gillespie definida antes. La i-ésima fila de la matriz X será igual al arreglo que retorna la función Gillespie, a la que en este caso le entrará la i-ésima -1 fila de la matriz X (cosa que ocurre porque fijamos la primera fila de la matriz de acuerdo con la condición inicial dada en el vector X0) y el i-ésimo elemento del vector tiempos. Es decir, la fila 0 de la matriz X, $X[0]$, corresponde a los valores iniciales indicados por el vector X0. La fila 1, $X[1]$, dependerá del estado anterior $X[0]$ y, dado que $t[0] = 0$, entonces el tiempo que corresponde a la fila 1, $X[1]$, será $t[1]$, y así sucesivamente."
   ]
  },
  {
   "cell_type": "markdown",
   "metadata": {},
   "source": [
    " "
   ]
  },
  {
   "cell_type": "markdown",
   "metadata": {},
   "source": [
    "\n",
    "Para hacer un ejemplo del funcionamiento de esta matriz, definimos las condiciones iniciales como elementos del vector x0, de manera que "
   ]
  },
  {
   "cell_type": "code",
   "execution_count": 6,
   "metadata": {},
   "outputs": [],
   "source": [
    "x0 = np.array([0.,0.,0.])"
   ]
  },
  {
   "cell_type": "markdown",
   "metadata": {},
   "source": [
    "El vector tiempos será un arreglo de numpy, un vector, que tendrá 50 valores equiespaciados de 0 a 200. De aquí, usando x0 y el vector tiempos, tenemos "
   ]
  },
  {
   "cell_type": "code",
   "execution_count": 7,
   "metadata": {},
   "outputs": [
    {
     "data": {
      "text/plain": [
       "array([[0.00000000e+00, 0.00000000e+00, 0.00000000e+00],\n",
       "       [6.11004389e+00, 1.00000000e+00, 0.00000000e+00],\n",
       "       [8.17969477e+00, 1.00000000e+00, 1.15000000e+02],\n",
       "       [1.22523616e+01, 1.00000000e+00, 3.84000000e+02],\n",
       "       [1.63379037e+01, 1.00000000e+00, 6.92000000e+02],\n",
       "       [2.04559225e+01, 0.00000000e+00, 7.99000000e+02],\n",
       "       [2.44982186e+01, 5.00000000e+00, 1.21700000e+03],\n",
       "       [2.85751656e+01, 5.00000000e+00, 2.12200000e+03],\n",
       "       [3.26547410e+01, 9.00000000e+00, 3.27200000e+03],\n",
       "       [3.67370987e+01, 7.00000000e+00, 4.92300000e+03],\n",
       "       [4.08190033e+01, 5.00000000e+00, 5.76500000e+03],\n",
       "       [4.48984684e+01, 3.00000000e+00, 5.76700000e+03],\n",
       "       [4.89827446e+01, 3.00000000e+00, 5.94500000e+03],\n",
       "       [5.30685643e+01, 2.00000000e+00, 6.01800000e+03],\n",
       "       [5.71538721e+01, 2.00000000e+00, 6.04500000e+03],\n",
       "       [6.12258271e+01, 9.00000000e+00, 6.38900000e+03],\n",
       "       [6.53061243e+01, 3.00000000e+00, 6.78100000e+03],\n",
       "       [6.93996723e+01, 1.00000000e+00, 6.72100000e+03],\n",
       "       [7.34723415e+01, 5.00000000e+00, 6.45600000e+03],\n",
       "       [7.75516106e+01, 4.00000000e+00, 6.69800000e+03],\n",
       "       [8.16348234e+01, 3.00000000e+00, 6.51000000e+03],\n",
       "       [8.57151455e+01, 1.00000000e+00, 6.17400000e+03],\n",
       "       [8.97982841e+01, 4.00000000e+00, 6.12200000e+03],\n",
       "       [9.38825746e+01, 3.00000000e+00, 6.14300000e+03],\n",
       "       [9.79613963e+01, 2.00000000e+00, 6.04600000e+03],\n",
       "       [1.02042742e+02, 1.00000000e+00, 5.94100000e+03],\n",
       "       [1.06134798e+02, 3.00000000e+00, 6.07400000e+03],\n",
       "       [1.10204682e+02, 5.00000000e+00, 6.50800000e+03],\n",
       "       [1.14287179e+02, 7.00000000e+00, 7.03800000e+03],\n",
       "       [1.18368201e+02, 6.00000000e+00, 7.91500000e+03],\n",
       "       [1.22449531e+02, 7.00000000e+00, 8.86700000e+03],\n",
       "       [1.26531451e+02, 3.00000000e+00, 9.08600000e+03],\n",
       "       [1.30613758e+02, 3.00000000e+00, 8.78100000e+03],\n",
       "       [1.34698343e+02, 7.00000000e+00, 9.08100000e+03],\n",
       "       [1.38779503e+02, 6.00000000e+00, 9.43900000e+03],\n",
       "       [1.42858437e+02, 5.00000000e+00, 9.73200000e+03],\n",
       "       [1.46945999e+02, 4.00000000e+00, 9.56400000e+03],\n",
       "       [1.51021909e+02, 5.00000000e+00, 9.68900000e+03],\n",
       "       [1.55107177e+02, 2.00000000e+00, 9.26400000e+03],\n",
       "       [1.59184491e+02, 1.00000000e+01, 9.52600000e+03],\n",
       "       [1.63265670e+02, 6.00000000e+00, 1.03590000e+04],\n",
       "       [1.67349387e+02, 7.00000000e+00, 1.08230000e+04],\n",
       "       [1.71431668e+02, 4.00000000e+00, 1.08790000e+04],\n",
       "       [1.75511614e+02, 3.00000000e+00, 1.08600000e+04],\n",
       "       [1.79592860e+02, 6.00000000e+00, 1.07010000e+04],\n",
       "       [1.83673973e+02, 1.10000000e+01, 1.11890000e+04],\n",
       "       [1.87757429e+02, 6.00000000e+00, 1.19130000e+04],\n",
       "       [1.91841230e+02, 6.00000000e+00, 1.20700000e+04],\n",
       "       [1.95920835e+02, 4.00000000e+00, 1.17230000e+04],\n",
       "       [2.00001657e+02, 6.00000000e+00, 1.18030000e+04]])"
      ]
     },
     "execution_count": 7,
     "metadata": {},
     "output_type": "execute_result"
    }
   ],
   "source": [
    "una_celula = Estado_celula(x0,np.linspace(0,200))\n",
    "una_celula"
   ]
  },
  {
   "cell_type": "markdown",
   "metadata": {},
   "source": [
    "La variable una_celula nos retornó la matriz de evolución del sistema. En este caso nuestro sistema es una única célula. Procederemos a verificar las trayectorias gráficamente. "
   ]
  },
  {
   "cell_type": "code",
   "execution_count": 8,
   "metadata": {},
   "outputs": [
    {
     "data": {
      "text/plain": [
       "[<matplotlib.lines.Line2D at 0x7f9efb3da7f0>]"
      ]
     },
     "execution_count": 8,
     "metadata": {},
     "output_type": "execute_result"
    },
    {
     "data": {
      "image/png": "[encoded data removed]",
      "text/plain": [
       "<Figure size 432x288 with 1 Axes>"
      ]
     },
     "metadata": {
      "needs_background": "light"
     },
     "output_type": "display_data"
    }
   ],
   "source": [
    "plt.xlabel('tiempo (s)')\n",
    "plt.ylabel('número de moléculas de ARNm')\n",
    "plt.step(una_celula[:,0],una_celula[:,1])"
   ]
  },
  {
   "cell_type": "markdown",
   "metadata": {},
   "source": [
    " "
   ]
  },
  {
   "cell_type": "markdown",
   "metadata": {},
   "source": [
    "Consideremos ahora 10000 células. Definimos num_cel como el número de células que vamos a simular. \n",
    "Definimos la variable células como un array de numpy. "
   ]
  },
  {
   "cell_type": "code",
   "execution_count": 9,
   "metadata": {},
   "outputs": [
    {
     "data": {
      "text/plain": [
       "(10000, 350, 3)"
      ]
     },
     "execution_count": 9,
     "metadata": {},
     "output_type": "execute_result"
    }
   ],
   "source": [
    "num_cel = 10000 #número de células \n",
    "celulas = np.array([Estado_celula(x0,np.arange(0.,700.,2.)) for i in range(num_cel)])\n",
    "celulas.shape"
   ]
  },
  {
   "cell_type": "markdown",
   "metadata": {},
   "source": [
    "Definimos el array de numpy células como una lista por comprensión. Se correrá la función Estado_celula, con las condiciones iniciales x0 y el vector de muestreo de tiempo tiempos, que tiene 350 elementos y va de 0 a 700, tantas veces como células haya en num_cel. La función shape nos dice entonces que hay 10000 células, es decir 10000 matrices, cada una con 350 filas y 3 columnas."
   ]
  },
  {
   "cell_type": "markdown",
   "metadata": {},
   "source": [
    " "
   ]
  },
  {
   "cell_type": "markdown",
   "metadata": {},
   "source": [
    "Una vez generadas nuestras 10000 células, procederemos a visualizar el comportamiento promedio. Usamos la función mean de numpy para promediar. Cuando axis=0, la función mean de numpy saca el promedio componente a componente de cada célula, es decir, promedio los tiempos de las células 1, 2, 3, ..., los ARNm de las células 1, 2, 3, ..., las proteínas de las células 1, 2, 3, ...., y genera una nueva matriz con esos promedios"
   ]
  },
  {
   "cell_type": "code",
   "execution_count": 10,
   "metadata": {},
   "outputs": [
    {
     "data": {
      "text/plain": [
       "array([[0.00000000e+00, 0.00000000e+00, 0.00000000e+00],\n",
       "       [2.18710638e+00, 1.82550000e+00, 8.71093000e+01],\n",
       "       [4.04364537e+00, 2.79110000e+00, 3.01935500e+02],\n",
       "       ...,\n",
       "       [6.94002106e+02, 4.95850000e+00, 1.12206232e+04],\n",
       "       [6.96002118e+02, 4.98210000e+00, 1.12186445e+04],\n",
       "       [6.98002144e+02, 4.99180000e+00, 1.12197882e+04]])"
      ]
     },
     "execution_count": 10,
     "metadata": {},
     "output_type": "execute_result"
    }
   ],
   "source": [
    "celulas_prom = np.mean(celulas,axis=0) #axis = 0 saca el promedio componente a componente de cada célula.\n",
    "celulas_prom"
   ]
  },
  {
   "cell_type": "markdown",
   "metadata": {},
   "source": [
    "Graficamos entonces los tiempos (es decir, coge toda las filas y la columna 0, por eso el [:,0]) contra la cantidad de ARNm. Dado que las cantidades de ARNm son la segunda columna de nuestra matriz, por eso pedimos todas las filas y la columna 1 usando [:,1] (pues Python cuenta desde 0). Es decir, la línea 1 de la celda que se muestra a continuación ploteará la curva promedio.\n",
    "\n",
    "Las líneas 3, 4, y 5 de la celda que se muestra a continuación graficarán las trayectorias de 5 células. El algoritmo, como se mostró antes, se corrió con 10000, pero se grafican solamente 5 para evitar la saturación de la figura. En la línea 5 es importante destacar que la primera 'componente' de células es la célula, es decir, célula 0, célula 1, célula 2, etc; la segunda componente son las filas, así que se piden todas; la tercera componente es la especie química de nuestro interés, de manera que en nuestro caso 0 es tiempo (que no es realmente una  especie química, pero así fue programado), 1 es ARNm y 2 es proteína."
   ]
  },
  {
   "cell_type": "code",
   "execution_count": 11,
   "metadata": {},
   "outputs": [
    {
     "data": {
      "image/png": "[encoded data removed]",
      "text/plain": [
       "<Figure size 432x288 with 1 Axes>"
      ]
     },
     "metadata": {
      "needs_background": "light"
     },
     "output_type": "display_data"
    }
   ],
   "source": [
    "plt.xlabel('Tiempo (minutos)')\n",
    "plt.ylabel('Número de moléculas de ARNm')\n",
    "plt.plot(celulas_prom[:,0],celulas_prom[:,1])\n",
    "for i in range(5):\n",
    "    plt.plot(celulas[i,:,0],celulas[i,:,1],alpha=0.2) #el primero es la célula, el 2do es la fila \n",
    "                                                      #y el tercero, como es 0, es el tiempo. \n",
    "                                                      #Cuando es 2 es proteína. Depende de las especies \n",
    "                                                      #químicas que use."
   ]
  },
  {
   "cell_type": "code",
   "execution_count": 12,
   "metadata": {},
   "outputs": [
    {
     "data": {
      "image/png": "[encoded data removed]",
      "text/plain": [
       "<Figure size 432x288 with 1 Axes>"
      ]
     },
     "metadata": {
      "needs_background": "light"
     },
     "output_type": "display_data"
    }
   ],
   "source": [
    "plt.xlabel('Tiempo (minutos)')\n",
    "plt.ylabel('Número de moléculas de proteína')\n",
    "plt.plot(celulas_prom[:,0],celulas_prom[:,2])\n",
    "for i in range(5):\n",
    "    plt.plot(celulas[i,:,0],celulas[i,:,2],alpha=0.2)"
   ]
  },
  {
   "cell_type": "markdown",
   "metadata": {},
   "source": [
    "Para el caso de las proteínas esanálogo. Agarramos los tiempos (es decir, coge toda las filas y la columna 0. Dado que las cantidades de proteína son la tercera columna de nuestra matriz, pedimos todas las filas y la columna 2 usando [:,2] (pues Python cuenta desde 0). Es decir, al igual que antes, la línea 1 de la celda que se muestra a continuación ploteará la curva promedio."
   ]
  },
  {
   "cell_type": "markdown",
   "metadata": {},
   "source": [
    "Para obtener valores estadísticos como el promedio y la desviación estándar, tomamos los valores de todas las células evaluadas para ARNm y proteína en el estado estacionario (en este caso, los últimos 52 tiempos del vector del tiempo de muestreo). Para hacerlo, seguimos con que"
   ]
  },
  {
   "cell_type": "markdown",
   "metadata": {},
   "source": [
    " "
   ]
  },
  {
   "cell_type": "markdown",
   "metadata": {},
   "source": [
    "Los últimos 52 valores de ARNm para todas las células vienen dados por"
   ]
  },
  {
   "cell_type": "code",
   "execution_count": 13,
   "metadata": {},
   "outputs": [
    {
     "data": {
      "text/plain": [
       "array([[6., 7., 4., ..., 3., 2., 5.],\n",
       "       [7., 5., 6., ..., 5., 3., 3.],\n",
       "       [6., 7., 9., ..., 3., 2., 3.],\n",
       "       ...,\n",
       "       [2., 3., 3., ..., 2., 4., 6.],\n",
       "       [2., 4., 3., ..., 3., 6., 3.],\n",
       "       [4., 3., 2., ..., 3., 2., 4.]])"
      ]
     },
     "execution_count": 13,
     "metadata": {},
     "output_type": "execute_result"
    }
   ],
   "source": [
    "celulas[:,-52:,1]"
   ]
  },
  {
   "cell_type": "code",
   "execution_count": 14,
   "metadata": {},
   "outputs": [
    {
     "data": {
      "text/plain": [
       "(10000, 52)"
      ]
     },
     "execution_count": 14,
     "metadata": {},
     "output_type": "execute_result"
    }
   ],
   "source": [
    "celulas[:,-52:,1].shape"
   ]
  },
  {
   "cell_type": "markdown",
   "metadata": {},
   "source": [
    " "
   ]
  },
  {
   "cell_type": "markdown",
   "metadata": {},
   "source": [
    "Los últimos 52 valores de proteína para todas las células vienen dados por"
   ]
  },
  {
   "cell_type": "code",
   "execution_count": 15,
   "metadata": {},
   "outputs": [
    {
     "data": {
      "text/plain": [
       "array([[11894., 11924., 11993., ..., 11659., 11399., 11252.],\n",
       "       [ 9696.,  9893., 10042., ..., 11940., 11776., 11505.],\n",
       "       [ 8997.,  9294.,  9689., ...,  9918.,  9838.,  9628.],\n",
       "       ...,\n",
       "       [ 7680.,  7594.,  7524., ...,  9346.,  9242.,  9355.],\n",
       "       [ 9735.,  9554.,  9401., ..., 10420., 10383., 10432.],\n",
       "       [ 8447.,  8463.,  8326., ...,  9278.,  9094.,  9048.]])"
      ]
     },
     "execution_count": 15,
     "metadata": {},
     "output_type": "execute_result"
    }
   ],
   "source": [
    "celulas[:,-52:,2]"
   ]
  },
  {
   "cell_type": "code",
   "execution_count": 16,
   "metadata": {},
   "outputs": [
    {
     "data": {
      "text/plain": [
       "(10000, 52)"
      ]
     },
     "execution_count": 16,
     "metadata": {},
     "output_type": "execute_result"
    }
   ],
   "source": [
    "celulas[:,-52:,1].shape"
   ]
  },
  {
   "cell_type": "markdown",
   "metadata": {},
   "source": [
    " "
   ]
  },
  {
   "cell_type": "markdown",
   "metadata": {},
   "source": [
    "El promedio y desviación estándar del ARNm"
   ]
  },
  {
   "cell_type": "code",
   "execution_count": 17,
   "metadata": {},
   "outputs": [
    {
     "data": {
      "text/plain": [
       "4.988357692307693"
      ]
     },
     "execution_count": 17,
     "metadata": {},
     "output_type": "execute_result"
    }
   ],
   "source": [
    "np.mean(celulas[:,-52:,1].ravel())"
   ]
  },
  {
   "cell_type": "code",
   "execution_count": 18,
   "metadata": {},
   "outputs": [
    {
     "data": {
      "text/plain": [
       "2.226635750266286"
      ]
     },
     "execution_count": 18,
     "metadata": {},
     "output_type": "execute_result"
    }
   ],
   "source": [
    "np.std(celulas[:,-52:,1].ravel())"
   ]
  },
  {
   "cell_type": "markdown",
   "metadata": {},
   "source": [
    "El promedio y desviación estándar de las proteínas"
   ]
  },
  {
   "cell_type": "code",
   "execution_count": 19,
   "metadata": {},
   "outputs": [
    {
     "data": {
      "text/plain": [
       "11249.341855769231"
      ]
     },
     "execution_count": 19,
     "metadata": {},
     "output_type": "execute_result"
    }
   ],
   "source": [
    "np.mean(celulas[:,-52:,2].ravel())"
   ]
  },
  {
   "cell_type": "code",
   "execution_count": 20,
   "metadata": {},
   "outputs": [
    {
     "data": {
      "text/plain": [
       "1584.948705351138"
      ]
     },
     "execution_count": 20,
     "metadata": {},
     "output_type": "execute_result"
    }
   ],
   "source": [
    "np.std(celulas[:,-52:,2].ravel())"
   ]
  },
  {
   "cell_type": "markdown",
   "metadata": {},
   "source": [
    " "
   ]
  },
  {
   "cell_type": "markdown",
   "metadata": {},
   "source": [
    "El ruido en el ARNm"
   ]
  },
  {
   "cell_type": "code",
   "execution_count": 26,
   "metadata": {},
   "outputs": [
    {
     "data": {
      "text/plain": [
       "0.44636649727421795"
      ]
     },
     "execution_count": 26,
     "metadata": {},
     "output_type": "execute_result"
    }
   ],
   "source": [
    "np.std(celulas[:,-52:,1].ravel())/np.mean(celulas[:,-52:,1].ravel())"
   ]
  },
  {
   "cell_type": "code",
   "execution_count": 27,
   "metadata": {},
   "outputs": [
    {
     "data": {
      "text/plain": [
       "0.1992430498888544"
      ]
     },
     "execution_count": 27,
     "metadata": {},
     "output_type": "execute_result"
    }
   ],
   "source": [
    "(np.std(celulas[:,-52:,1].ravel())/np.mean(celulas[:,-52:,1].ravel()))**2"
   ]
  },
  {
   "cell_type": "markdown",
   "metadata": {},
   "source": [
    "El ruido en las proteínas"
   ]
  },
  {
   "cell_type": "code",
   "execution_count": 23,
   "metadata": {},
   "outputs": [
    {
     "data": {
      "text/plain": [
       "0.1408925718208391"
      ]
     },
     "execution_count": 23,
     "metadata": {},
     "output_type": "execute_result"
    }
   ],
   "source": [
    "np.std(celulas[:,-52:,2].ravel())/np.mean(celulas[:,-52:,2].ravel())"
   ]
  },
  {
   "cell_type": "code",
   "execution_count": 24,
   "metadata": {},
   "outputs": [
    {
     "data": {
      "text/plain": [
       "0.019850716794290308"
      ]
     },
     "execution_count": 24,
     "metadata": {},
     "output_type": "execute_result"
    }
   ],
   "source": [
    "(np.std(celulas[:,-52:,2].ravel())/np.mean(celulas[:,-52:,2].ravel()))**2"
   ]
  },
  {
   "cell_type": "markdown",
   "metadata": {},
   "source": [
    " "
   ]
  },
  {
   "cell_type": "markdown",
   "metadata": {},
   "source": [
    "El ruido analítico para el ARNm vendrá dada por la expresión\n",
    "\n",
    "$$\n",
    "\\eta_r^2 = \\frac{1}{<m>} = \\frac{\\gamma_r}{k_r}\n",
    "$$"
   ]
  },
  {
   "cell_type": "code",
   "execution_count": 25,
   "metadata": {},
   "outputs": [
    {
     "data": {
      "text/plain": [
       "0.2"
      ]
     },
     "execution_count": 25,
     "metadata": {},
     "output_type": "execute_result"
    }
   ],
   "source": [
    "γr/kr"
   ]
  },
  {
   "cell_type": "markdown",
   "metadata": {},
   "source": [
    "Lo que coincide relativamente bien con el obtenido a partir de la simulación. \n",
    "\n",
    "El ruido analítico para las proteínas vendrá dado por la expresión\n",
    "\n",
    "$$\n",
    "\\eta_p^2 = \\frac{1}{<p>} + \\frac{1}{<r>}\\left(\\frac{\\gamma_p}{\\gamma_p + \\gamma_r}\\right) = \\frac{\\gamma_p \\gamma_r \\left(k_p + \\gamma_p + \\gamma_r\\right)}{k_p k_r \\left(\\gamma_p+\\gamma_r\\right)}\n",
    "$$"
   ]
  },
  {
   "cell_type": "code",
   "execution_count": 28,
   "metadata": {},
   "outputs": [
    {
     "data": {
      "text/plain": [
       "0.02008888888888889"
      ]
     },
     "execution_count": 28,
     "metadata": {},
     "output_type": "execute_result"
    }
   ],
   "source": [
    "1/((kp*kr)/(γr*γp)) + (γr/kr)*(γp/(γp+γr))"
   ]
  },
  {
   "cell_type": "markdown",
   "metadata": {},
   "source": [
    "Lo que, nuevamente, coincide relativamente bien con el ruido obtenido de la simulación."
   ]
  }
 ],
 "metadata": {
  "kernelspec": {
   "display_name": "Python 3",
   "language": "python",
   "name": "python3"
  },
  "language_info": {
   "codemirror_mode": {
    "name": "ipython",
    "version": 3
   },
   "file_extension": ".py",
   "mimetype": "text/x-python",
   "name": "python",
   "nbconvert_exporter": "python",
   "pygments_lexer": "ipython3",
   "version": "3.8.5"
  }
 },
 "nbformat": 4,
 "nbformat_minor": 2
}
