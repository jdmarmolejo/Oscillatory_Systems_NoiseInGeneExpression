{
 "cells": [
  {
   "cell_type": "markdown",
   "metadata": {},
   "source": [
    "A continuación llevaremos a cabo una implementación alternativa del algoritmo de Gillespie para comparar los resultados obtenidos con la otra. La documentación relativa a esta implementación se encuentra disponible en [aquí](http://be150.caltech.edu/2019/handouts/12_stochastic_simulation.html) y fue realizada por Michael Elowitz y Justin Bois."
   ]
  },
  {
   "cell_type": "code",
   "execution_count": 1,
   "metadata": {
    "scrolled": true
   },
   "outputs": [],
   "source": [
    "import biocircuits\n",
    "from numba import jit,njit,float64,int32\n",
    "import numba \n",
    "import numpy as np\n",
    "import bokeh.io\n",
    "import bokeh.plotting\n",
    "import matplotlib.pyplot as plt"
   ]
  },
  {
   "cell_type": "code",
   "execution_count": 2,
   "metadata": {},
   "outputs": [],
   "source": [
    "@numba.njit\n",
    "def simple_propensity(propensities, population, t, n1, n2, k1, k2, β1, β2, kp1, kp2, γr1, γr2, γp1, γp2):\n",
    "    \"\"\"Updates an array of propensities given a set of parameters\n",
    "    and an array of populations.\n",
    "    \"\"\"\n",
    "    # Unpack population\n",
    "    r1, r2, p1, p2 = population\n",
    "\n",
    "    # Update propensities\n",
    "    propensities[0] = β1*((p2**n1)/(k1**n1 + p2**n1))  \n",
    "    propensities[1] = γr1*r1  # Degrade mRNA\n",
    "    propensities[2] = β2/(1 + (p1/k2)**n2)  # Make protein\n",
    "    propensities[3] = γr2*r2  # Degrade protein\n",
    "    propensities[4] = kp1*r1\n",
    "    propensities[5] = γp1*p1\n",
    "    propensities[6] = kp2*r2\n",
    "    propensities[7] = γp2*p2"
   ]
  },
  {
   "cell_type": "code",
   "execution_count": 3,
   "metadata": {},
   "outputs": [],
   "source": [
    "population_0 = np.array([0, 0, 0, 0], dtype=int)\n",
    "time_points = np.linspace(0, 800,200)\n",
    "args = (3.5, 3.5, 4400, 8080, 216/125, 216/125, 50, 45, 1/5, 50/251, 1/45, 1/45)"
   ]
  },
  {
   "cell_type": "code",
   "execution_count": 4,
   "metadata": {},
   "outputs": [],
   "source": [
    "simple_update = np.array(\n",
    "    [\n",
    "        [1, 0, 0, 0],  #Create r1\n",
    "        [-1, 0, 0, 0],  # Degrade r1\n",
    "        [0, 1, 0, 0], #Create r2\n",
    "        [0, -1, 0, 0], #Degrade r2\n",
    "        [0, 0, 1, 0],  # Create p1\n",
    "        [0, 0, -1, 0], # Degrade p1\n",
    "        [0, 0, 0, 1],  # Create p2\n",
    "        [0, 0, 0, -1], #Degrade p2\n",
    "    ],\n",
    "    dtype=np.int,\n",
    ")"
   ]
  },
  {
   "cell_type": "code",
   "execution_count": 5,
   "metadata": {},
   "outputs": [],
   "source": [
    "samples = biocircuits.gillespie_ssa(\n",
    "    simple_propensity,\n",
    "    simple_update,\n",
    "    population_0,\n",
    "    time_points,\n",
    "    size=2000,\n",
    "    args=args,\n",
    "    n_threads=4,\n",
    "    progress_bar=False,\n",
    ")"
   ]
  },
  {
   "cell_type": "code",
   "execution_count": 6,
   "metadata": {},
   "outputs": [
    {
     "data": {
      "text/plain": [
       "array([[[    0,     0,     0,     0],\n",
       "        [    0,     3,     0,   550],\n",
       "        [    0,    10,     0,  1563],\n",
       "        ...,\n",
       "        [   11,     4, 12922,  8633],\n",
       "        [   12,     4, 13822,  8707],\n",
       "        [    8,     2, 14648,  8357]],\n",
       "\n",
       "       [[    0,     0,     0,     0],\n",
       "        [    0,     2,     0,   440],\n",
       "        [    1,     5,     5,  1097],\n",
       "        ...,\n",
       "        [    6,     4,  9863,  4156],\n",
       "        [    4,     4,  9670,  4381],\n",
       "        [    3,     2,  9457,  4447]],\n",
       "\n",
       "       [[    0,     0,     0,     0],\n",
       "        [    0,     2,     0,   219],\n",
       "        [    0,     7,     0,  1017],\n",
       "        ...,\n",
       "        [   11,     4, 11611,  5767],\n",
       "        [   13,     2, 12884,  5838],\n",
       "        [   11,     1, 14202,  5717]],\n",
       "\n",
       "       ...,\n",
       "\n",
       "       [[    0,     0,     0,     0],\n",
       "        [    0,     6,     0,   567],\n",
       "        [    0,     7,     0,  1743],\n",
       "        ...,\n",
       "        [    6,     2, 12931,  3561],\n",
       "        [    5,     1, 12886,  3353],\n",
       "        [    2,     2, 12498,  3261]],\n",
       "\n",
       "       [[    0,     0,     0,     0],\n",
       "        [    0,     2,     0,   211],\n",
       "        [    0,     3,     0,   614],\n",
       "        ...,\n",
       "        [    2,     8,  8775,  4201],\n",
       "        [    4,     7,  8513,  5223],\n",
       "        [    6,     4,  8832,  5703]],\n",
       "\n",
       "       [[    0,     0,     0,     0],\n",
       "        [    0,     2,     0,   547],\n",
       "        [    0,     4,     0,  1026],\n",
       "        ...,\n",
       "        [    5,     2, 10339,  4549],\n",
       "        [    6,     1, 10660,  4480],\n",
       "        [    4,     4, 10945,  4643]]])"
      ]
     },
     "execution_count": 6,
     "metadata": {},
     "output_type": "execute_result"
    }
   ],
   "source": [
    "samples"
   ]
  },
  {
   "cell_type": "code",
   "execution_count": 7,
   "metadata": {},
   "outputs": [
    {
     "data": {
      "image/png": "[encoded data removed]",
      "text/plain": [
       "<Figure size 432x288 with 1 Axes>"
      ]
     },
     "metadata": {
      "needs_background": "light"
     },
     "output_type": "display_data"
    }
   ],
   "source": [
    "plt.plot(time_points,samples[:,:,0].mean(axis=0));"
   ]
  },
  {
   "cell_type": "code",
   "execution_count": 8,
   "metadata": {},
   "outputs": [
    {
     "data": {
      "image/png": "[encoded data removed]",
      "text/plain": [
       "<Figure size 432x288 with 1 Axes>"
      ]
     },
     "metadata": {
      "needs_background": "light"
     },
     "output_type": "display_data"
    }
   ],
   "source": [
    "plt.plot(time_points,samples[:,:,1].mean(axis=0));"
   ]
  },
  {
   "cell_type": "code",
   "execution_count": 9,
   "metadata": {},
   "outputs": [
    {
     "data": {
      "image/png": "[encoded data removed]",
      "text/plain": [
       "<Figure size 432x288 with 1 Axes>"
      ]
     },
     "metadata": {
      "needs_background": "light"
     },
     "output_type": "display_data"
    }
   ],
   "source": [
    "plt.plot(time_points,samples[:,:,2].mean(axis=0));\n",
    "plt.plot(time_points,samples[:,:,3].mean(axis=0));"
   ]
  },
  {
   "cell_type": "code",
   "execution_count": 18,
   "metadata": {},
   "outputs": [
    {
     "name": "stdout",
     "output_type": "stream",
     "text": [
      "Valor esperado del ARNm 1: 4.879095\n",
      "Varianza del ARNm 1: 7.011254480974999\n",
      "Ruido cuadrado del ARNm 1: 0.29452162096580614\n"
     ]
    }
   ],
   "source": [
    "print('Valor esperado del ARNm 1:',samples[:, -100:, 0].mean())\n",
    "print('Varianza del ARNm 1:',samples[:, -100:, 0].std()**2)\n",
    "print('Ruido cuadrado del ARNm 1:', samples[:, -100:, 0].std()**2/samples[:, -100:, 0].mean()**2)"
   ]
  },
  {
   "cell_type": "code",
   "execution_count": 14,
   "metadata": {},
   "outputs": [
    {
     "name": "stdout",
     "output_type": "stream",
     "text": [
      "Valor esperado del ARNm 2: 2.43105\n",
      "Varianza del ARNm 2: 3.4125183975\n",
      "Ruido cuadrado del ARNm 2: 0.5774138796378273\n"
     ]
    }
   ],
   "source": [
    "print('Valor esperado del ARNm 2:',samples[:, -100:, 1].mean())\n",
    "print('Varianza del ARNm 2:', samples[:, -100:, 1].std()**2)\n",
    "print('Ruido cuadrado del ARNm 2:',samples[:, -100:, 1].std()**2/samples[:, -100:, 1].mean()**2)"
   ]
  },
  {
   "cell_type": "code",
   "execution_count": 15,
   "metadata": {},
   "outputs": [
    {
     "name": "stdout",
     "output_type": "stream",
     "text": [
      "Valor esperado de la proteína 1: 10989.3367\n",
      "Varianza de la proteína 1: 3794404.88302811\n",
      "Ruido cuadrado de la proteína 1: 0.03141960427346372\n"
     ]
    }
   ],
   "source": [
    "print('Valor esperado de la proteína 1:',samples[:, -100:, 2].mean())\n",
    "print('Varianza de la proteína 1:', samples[:, -100:, 2].std()**2)\n",
    "print('Ruido cuadrado de la proteína 1:',samples[:, -100:, 2].std()**2/samples[:, -100:, 2].mean()**2)"
   ]
  },
  {
   "cell_type": "code",
   "execution_count": 16,
   "metadata": {},
   "outputs": [
    {
     "name": "stdout",
     "output_type": "stream",
     "text": [
      "Valor esperado de la proteína 2: 4931.54507125\n",
      "Varianza de la proteína 2: 1401012.2872635825\n",
      "Ruido cuadrado de la proteína 2: 0.0576070891119697\n"
     ]
    }
   ],
   "source": [
    "print('Valor esperado de la proteína 2:',samples[:, -100:, 3].mean())\n",
    "print('Varianza de la proteína 2:', samples[:, -100:, 3].std()**2)\n",
    "print('Ruido cuadrado de la proteína 2:',samples[:, -100:, 3].std()**2/samples[:, -100:, 3].mean()**2)"
   ]
  }
 ],
 "metadata": {
  "kernelspec": {
   "display_name": "Python 3",
   "language": "python",
   "name": "python3"
  },
  "language_info": {
   "codemirror_mode": {
    "name": "ipython",
    "version": 3
   },
   "file_extension": ".py",
   "mimetype": "text/x-python",
   "name": "python",
   "nbconvert_exporter": "python",
   "pygments_lexer": "ipython3",
   "version": "3.8.5"
  }
 },
 "nbformat": 4,
 "nbformat_minor": 4
}
